{
 "cells": [
  {
   "cell_type": "code",
   "execution_count": 1,
   "metadata": {
    "collapsed": true
   },
   "outputs": [],
   "source": [
    "%matplotlib inline\n",
    "import matplotlib.pyplot as plt\n",
    "import seaborn as sns;\n",
    "sns.set(style=\"ticks\", color_codes=True)\n",
    "\n",
    "import math\n",
    "import numpy as np\n",
    "import pandas as pd\n",
    "import torch\n",
    "from torch.nn.functional import softplus\n",
    "import pyro\n",
    "from pyro.distributions import Binomial, Multinomial, Bernoulli, Beta\n",
    "from pyro.infer import EmpiricalMarginal, Importance\n",
    "from pyro.infer.abstract_infer import TracePredictive\n",
    "from pyro.distributions.util import log_sum_exp"
   ]
  },
  {
   "cell_type": "code",
   "execution_count": 2,
   "metadata": {
    "collapsed": true
   },
   "outputs": [],
   "source": [
    "num_imp_samples = 100000\n",
    "num_marg_samples = 100000"
   ]
  },
  {
   "cell_type": "code",
   "execution_count": 3,
   "metadata": {
    "collapsed": true
   },
   "outputs": [],
   "source": [
    "def rep_code(N):\n",
    "    s = pyro.sample('s', Bernoulli(torch.tensor(0.5)))\n",
    "    f = torch.tensor(0.1)\n",
    "    if s.item() == 0:\n",
    "        return pyro.sample('r', Binomial(N, f))\n",
    "    else:\n",
    "        return pyro.sample('r', Binomial(N,1 - f))"
   ]
  },
  {
   "cell_type": "code",
   "execution_count": 4,
   "metadata": {},
   "outputs": [],
   "source": [
    "conditioned_rep_code = pyro.condition(rep_code, data={'s': torch.tensor(0.)})\n",
    "likelihood = Importance(conditioned_rep_code, num_samples=num_imp_samples)\n",
    "marginal = EmpiricalMarginal(likelihood.run(3))\n",
    "marginal_samp = [marginal().item() for _ in range(num_marg_samples)]"
   ]
  },
  {
   "cell_type": "code",
   "execution_count": 5,
   "metadata": {},
   "outputs": [
    {
     "data": {
      "text/plain": [
       "<matplotlib.axes._subplots.AxesSubplot at 0x1a4821b358>"
      ]
     },
     "execution_count": 5,
     "metadata": {},
     "output_type": "execute_result"
    },
    {
     "data": {
      "image/png": "[encoded data removed]",
      "text/plain": [
       "<matplotlib.figure.Figure at 0x1a18d40908>"
      ]
     },
     "metadata": {},
     "output_type": "display_data"
    }
   ],
   "source": [
    "fig, ax = plt.subplots(figsize=(24,6))\n",
    "sns.countplot(marginal_samp, ax=ax)"
   ]
  },
  {
   "cell_type": "code",
   "execution_count": 6,
   "metadata": {
    "collapsed": true
   },
   "outputs": [],
   "source": [
    "df = pd.DataFrame({ 'trial': marginal_samp })\n",
    "# should be approx 0.729\n",
    "p_0_bits_flipped = len(df.query('trial == 0')) / num_marg_samples\n",
    "\n",
    "# should be approx 0.081 * 3 = 0.243\n",
    "p_1_bits_flipped = len(df.query('trial == 1')) / num_marg_samples\n",
    "\n",
    "# should be approx 0.009 * 3 = 0.027\n",
    "p_2_bits_flipped = len(df.query('trial == 2')) / num_marg_samples\n",
    "\n",
    "# should be approx 0.001\n",
    "p_3_bits_flipped = len(df.query('trial == 3')) / num_marg_samples\n",
    "\n",
    "# should be approx .97\n",
    "prob_correct = p_0_bits_flipped + p_1_bits_flipped\n",
    "\n",
    "# should be approx .03\n",
    "prob_incorrect = p_2_bits_flipped + p_3_bits_flipped"
   ]
  },
  {
   "cell_type": "code",
   "execution_count": 7,
   "metadata": {},
   "outputs": [
    {
     "name": "stdout",
     "output_type": "stream",
     "text": [
      "P(r has 0 bits flipped | s = 0) = 0.72776\n",
      "P(r has 1 bits flipped | s = 0) = 0.24398\n",
      "P(r has 2 bits flipped | s = 0) = 0.02726\n",
      "P(r has 3 bits flipped | s = 0) = 0.001\n",
      "P(r correct decode | s = 0) = 0.9717399999999999\n",
      "P(r incorrect decode | s = 0) = 0.02826\n"
     ]
    }
   ],
   "source": [
    "print('P(r has 0 bits flipped | s = 0) = {}'.format(p_0_bits_flipped))\n",
    "print('P(r has 1 bits flipped | s = 0) = {}'.format(p_1_bits_flipped))\n",
    "print('P(r has 2 bits flipped | s = 0) = {}'.format(p_2_bits_flipped))\n",
    "print('P(r has 3 bits flipped | s = 0) = {}'.format(p_3_bits_flipped))\n",
    "print('P(r correct decode | s = 0) = {}'.format(prob_correct))\n",
    "print('P(r incorrect decode | s = 0) = {}'.format(prob_incorrect))"
   ]
  }
 ],
 "metadata": {
  "kernelspec": {
   "display_name": "Python 3",
   "language": "python",
   "name": "python3"
  },
  "language_info": {
   "codemirror_mode": {
    "name": "ipython",
    "version": 3
   },
   "file_extension": ".py",
   "mimetype": "text/x-python",
   "name": "python",
   "nbconvert_exporter": "python",
   "pygments_lexer": "ipython3",
   "version": "3.6.3"
  }
 },
 "nbformat": 4,
 "nbformat_minor": 2
}
