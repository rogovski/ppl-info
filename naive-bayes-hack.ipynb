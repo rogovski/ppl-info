{
 "cells": [
  {
   "cell_type": "code",
   "execution_count": 1,
   "metadata": {
    "collapsed": true
   },
   "outputs": [],
   "source": [
    "%matplotlib inline\n",
    "import matplotlib.pyplot as plt\n",
    "import seaborn as sns;\n",
    "sns.set(style=\"ticks\", color_codes=True)\n",
    "\n",
    "from sklearn.datasets import fetch_20newsgroups\n",
    "from sklearn.feature_extraction.text import TfidfVectorizer\n",
    "\n",
    "import numpy as np\n",
    "import torch\n",
    "from torch.nn.functional import softplus\n",
    "import pyro\n",
    "import pyro.distributions as dist\n",
    "import pyro.poutine as poutine\n",
    "from pyro.distributions.util import log_sum_exp\n",
    "from torch.distributions import constraints\n",
    "from pyro.infer import EmpiricalMarginal, SVI, Trace_ELBO\n",
    "from pyro.infer.abstract_infer import TracePredictive\n",
    "from pyro.infer.mcmc import MCMC, NUTS\n",
    "from pyro.optim import Adam"
   ]
  },
  {
   "cell_type": "markdown",
   "metadata": {},
   "source": [
    "# dataset\n",
    "\n",
    "we will use the 20 newsgroups dataset. example usage of this data can be found [here](http://scikit-learn.org/stable/datasets/index.html#the-20-newsgroups-text-dataset)."
   ]
  },
  {
   "cell_type": "code",
   "execution_count": 2,
   "metadata": {
    "collapsed": true
   },
   "outputs": [],
   "source": [
    "def get_vocab():\n",
    "    with open('./simple-vocab.txt')as f:\n",
    "        content = f.readlines()\n",
    "    content = [x.strip() for x in content]\n",
    "    return np.unique(content)\n",
    "vocab = get_vocab()\n",
    "num_features = len(vocab)\n",
    "categories = [\n",
    "    'rec.autos',\n",
    "    'rec.sport.baseball', \n",
    "    'rec.sport.hockey',\n",
    "    'sci.med', \n",
    "    'sci.space'\n",
    "]\n",
    "num_cats = len(categories)\n",
    "docs_train = fetch_20newsgroups(subset='train', categories=categories)\n",
    "docs_test = fetch_20newsgroups(subset='test', categories=categories)"
   ]
  },
  {
   "cell_type": "markdown",
   "metadata": {},
   "source": [
    "### feature extraction\n",
    "\n",
    "see wikipedia for an explaination of [tf-idf](https://en.wikipedia.org/wiki/Tf%E2%80%93idf)"
   ]
  },
  {
   "cell_type": "code",
   "execution_count": 3,
   "metadata": {},
   "outputs": [
    {
     "name": "stdout",
     "output_type": "stream",
     "text": [
      "train: (2978, 1027)\n",
      "test: (1982, 1027)\n"
     ]
    }
   ],
   "source": [
    "vectorizer = TfidfVectorizer(\n",
    "    stop_words='english', \n",
    "    vocabulary=vocab,\n",
    "    binary=True, \n",
    "    use_idf=False, \n",
    "    norm=None\n",
    ")\n",
    "vectors_train = vectorizer.fit_transform(docs_train.data).toarray()\n",
    "vectors_test = vectorizer.transform(docs_test.data).toarray()\n",
    "print('train: {}'.format(vectors_train.shape))\n",
    "print('test: {}'.format(vectors_test.shape))"
   ]
  },
  {
   "cell_type": "markdown",
   "metadata": {},
   "source": [
    "# model"
   ]
  },
  {
   "cell_type": "code",
   "execution_count": 7,
   "metadata": {},
   "outputs": [],
   "source": [
    "def label_counts(dataY):\n",
    "    counts = np.histogram(dataY.numpy(), bins=num_cats)[0]\n",
    "    return softplus(torch.FloatTensor(counts), threshold=0)\n",
    "\n",
    "def model(dataX, dataY):\n",
    "    cat_prior = pyro.sample(\n",
    "        'cat_prior',\n",
    "        dist.Dirichlet(label_counts(dataY))\n",
    "    )\n",
    "    cat = pyro.sample(\n",
    "        'cat', \n",
    "        dist.Categorical(cat_prior)\n",
    "    )\n",
    "    # use the generated cat sample to pick out target indices that have\n",
    "    # that class\n",
    "    c_idxs = torch.nonzero(dataY == cat.item()).squeeze()\n",
    "    # count docs with class c\n",
    "    N_c = c_idxs.size(0)\n",
    "    # corresponding data with class c\n",
    "    dataX_c = torch.index_select(dataX, 0, c_idxs)\n",
    "    counts_true = torch.sum(dataX_c, 0)\n",
    "    counts_false = (torch.ones(num_features)*N_c) - counts_true\n",
    "    c0 = softplus(counts_true, threshold=0)\n",
    "    c1 = softplus(counts_false, threshold=0)\n",
    "\n",
    "    with pyro.iarange('likelihood_loop', num_features):\n",
    "        beta = pyro.sample(\n",
    "            'beta',\n",
    "            dist.Beta(c0, c1).expand_by([N_c]).independent(1)\n",
    "        )\n",
    "        print(beta.size())\n",
    "        print(dataX_c.size())\n",
    "        pyro.sample(\n",
    "            'bern',\n",
    "            dist.Bernoulli(beta).independent(1),\n",
    "            obs=dataX_c\n",
    "        )\n",
    "    \n",
    "        \n",
    "def guide(dataY, dataX):\n",
    "    cat_prior = pyro.sample(\n",
    "        'cat_prior',\n",
    "        dist.Dirichlet(label_counts(dataY))\n",
    "    )\n",
    "    cat = pyro.sample(\n",
    "        'cat', \n",
    "        dist.Categorical(cat_prior).expand_by([len(dataY)]).independent(1)\n",
    "    )\n",
    "    with pyro.iarange('likelihood_loop', num_features):\n",
    "        c0 = pyro.param('c0', torch.ones(len(dataY), num_features), constraint=constraints.positive)\n",
    "        c1 = pyro.param('c1', torch.ones(len(dataY), num_features), constraint=constraints.positive)\n",
    "        return pyro.sample(\n",
    "            'beta',\n",
    "            dist.Beta(c0, c1).independent(1)\n",
    "        )"
   ]
  },
  {
   "cell_type": "code",
   "execution_count": 8,
   "metadata": {},
   "outputs": [
    {
     "name": "stdout",
     "output_type": "stream",
     "text": [
      "torch.Size([600, 1027])\n",
      "torch.Size([600, 1027])\n"
     ]
    },
    {
     "name": "stderr",
     "output_type": "stream",
     "text": [
      "/Users/rogovski/anaconda3/lib/python3.6/site-packages/pyro/primitives.py:62: RuntimeWarning: trying to observe a value outside of inference at bern\n",
      "  RuntimeWarning)\n"
     ]
    }
   ],
   "source": [
    "\"\"\"\n",
    "trainx_t = torch.Tensor(vectors_train)\n",
    "trainy_t = torch.LongTensor(docs_train.target)\n",
    "model(trainx_t, trainy_t)\n",
    "\n",
    "\"\"\""
   ]
  },
  {
   "cell_type": "code",
   "execution_count": 5,
   "metadata": {},
   "outputs": [],
   "source": [
    "\n",
    "\n",
    "\"\"\"\n",
    "pyro.clear_param_store()\n",
    "trainx_t = torch.Tensor(vectors_train)\n",
    "trainy_t = torch.LongTensor(docs_train.target)\n",
    "posterior = pyro.infer.Importance(model, guide=guide, num_samples=10)\n",
    "marginal = pyro.infer.EmpiricalMarginal(posterior.run(trainy_t, trainx_t), sites='beta')\n",
    "\"\"\"\n",
    "\n",
    "\"\"\"\n",
    "trainx_t = torch.Tensor(vectors_train)\n",
    "trainy_t = torch.LongTensor(docs_train.target)\n",
    "nuts_kernel = NUTS(conditioned_model, adapt_step_size=True)\n",
    "posterior = MCMC(nuts_kernel, num_samples=100, warmup_steps=10).run(trainy_t, trainx_t)\n",
    "\"\"\"\n",
    "\"\"\"\n",
    "pyro.clear_param_store()\n",
    "\n",
    "trainx_t = torch.Tensor(vectors_train)\n",
    "trainy_t = torch.LongTensor(docs_train.target)\n",
    "\n",
    "adam_params = {\"lr\": 0.0005, \"betas\": (0.90, 0.999)}\n",
    "optimizer = Adam(adam_params)\n",
    "svi = SVI(model, guide, optimizer, loss=Trace_ELBO())\n",
    "\n",
    "for step in range(4):\n",
    "    svi.step(trainy_t, trainx_t)\n",
    "    if step % 2 == 0:\n",
    "        print('opt step')\n",
    "\"\"\"\n",
    "\"\"\"\n",
    "\n",
    "trainx_t = torch.Tensor(vectors_train)\n",
    "trainy_t = torch.LongTensor(docs_train.target)\n",
    "model(trainx_t, trainy_t).shape\n",
    "\"\"\"\n",
    "\n",
    "trainx_t = torch.Tensor(vectors_train)\n",
    "trainy_t = torch.LongTensor(docs_train.target)\n",
    "posterior = pyro.infer.Importance(model, num_samples=10)\n",
    "marginal = pyro.infer.EmpiricalMarginal(posterior.run(trainx_t, trainy_t), sites='beta')"
   ]
  },
  {
   "cell_type": "code",
   "execution_count": 6,
   "metadata": {},
   "outputs": [
    {
     "ename": "RuntimeError",
     "evalue": "invalid argument 0: Sizes of tensors must match except in dimension 0. Got 594 and 600 in dimension 1 at /Users/soumith/minicondabuild3/conda-bld/pytorch_1524590658547/work/aten/src/TH/generic/THTensorMath.c:3586",
     "output_type": "error",
     "traceback": [
      "\u001b[0;31m---------------------------------------------------------------------------\u001b[0m",
      "\u001b[0;31mRuntimeError\u001b[0m                              Traceback (most recent call last)",
      "\u001b[0;32m<ipython-input-6-7938e5e204a9>\u001b[0m in \u001b[0;36m<module>\u001b[0;34m()\u001b[0m\n\u001b[0;32m----> 1\u001b[0;31m \u001b[0mmarginal\u001b[0m\u001b[0;34m(\u001b[0m\u001b[0;34m)\u001b[0m\u001b[0;34m\u001b[0m\u001b[0m\n\u001b[0m",
      "\u001b[0;32m~/anaconda3/lib/python3.6/site-packages/pyro/distributions/torch_distribution.py\u001b[0m in \u001b[0;36m__call__\u001b[0;34m(self, sample_shape)\u001b[0m\n\u001b[1;32m     39\u001b[0m         \u001b[0;34m:\u001b[0m\u001b[0mrtype\u001b[0m\u001b[0;34m:\u001b[0m \u001b[0mtorch\u001b[0m\u001b[0;34m.\u001b[0m\u001b[0mTensor\u001b[0m\u001b[0;34m\u001b[0m\u001b[0m\n\u001b[1;32m     40\u001b[0m         \"\"\"\n\u001b[0;32m---> 41\u001b[0;31m         \u001b[0;32mreturn\u001b[0m \u001b[0mself\u001b[0m\u001b[0;34m.\u001b[0m\u001b[0mrsample\u001b[0m\u001b[0;34m(\u001b[0m\u001b[0msample_shape\u001b[0m\u001b[0;34m)\u001b[0m \u001b[0;32mif\u001b[0m \u001b[0mself\u001b[0m\u001b[0;34m.\u001b[0m\u001b[0mhas_rsample\u001b[0m \u001b[0;32melse\u001b[0m \u001b[0mself\u001b[0m\u001b[0;34m.\u001b[0m\u001b[0msample\u001b[0m\u001b[0;34m(\u001b[0m\u001b[0msample_shape\u001b[0m\u001b[0;34m)\u001b[0m\u001b[0;34m\u001b[0m\u001b[0m\n\u001b[0m\u001b[1;32m     42\u001b[0m \u001b[0;34m\u001b[0m\u001b[0m\n\u001b[1;32m     43\u001b[0m     \u001b[0;34m@\u001b[0m\u001b[0mproperty\u001b[0m\u001b[0;34m\u001b[0m\u001b[0m\n",
      "\u001b[0;32m~/anaconda3/lib/python3.6/site-packages/pyro/distributions/empirical.py\u001b[0m in \u001b[0;36msample\u001b[0;34m(self, sample_shape)\u001b[0m\n\u001b[1;32m    106\u001b[0m \u001b[0;34m\u001b[0m\u001b[0m\n\u001b[1;32m    107\u001b[0m     \u001b[0;32mdef\u001b[0m \u001b[0msample\u001b[0m\u001b[0;34m(\u001b[0m\u001b[0mself\u001b[0m\u001b[0;34m,\u001b[0m \u001b[0msample_shape\u001b[0m\u001b[0;34m=\u001b[0m\u001b[0mtorch\u001b[0m\u001b[0;34m.\u001b[0m\u001b[0mSize\u001b[0m\u001b[0;34m(\u001b[0m\u001b[0;34m)\u001b[0m\u001b[0;34m)\u001b[0m\u001b[0;34m:\u001b[0m\u001b[0;34m\u001b[0m\u001b[0m\n\u001b[0;32m--> 108\u001b[0;31m         \u001b[0mself\u001b[0m\u001b[0;34m.\u001b[0m\u001b[0m_finalize\u001b[0m\u001b[0;34m(\u001b[0m\u001b[0;34m)\u001b[0m\u001b[0;34m\u001b[0m\u001b[0m\n\u001b[0m\u001b[1;32m    109\u001b[0m         \u001b[0midxs\u001b[0m \u001b[0;34m=\u001b[0m \u001b[0mself\u001b[0m\u001b[0;34m.\u001b[0m\u001b[0m_categorical\u001b[0m\u001b[0;34m.\u001b[0m\u001b[0msample\u001b[0m\u001b[0;34m(\u001b[0m\u001b[0msample_shape\u001b[0m\u001b[0;34m=\u001b[0m\u001b[0msample_shape\u001b[0m\u001b[0;34m)\u001b[0m\u001b[0;34m\u001b[0m\u001b[0m\n\u001b[1;32m    110\u001b[0m         \u001b[0;32mreturn\u001b[0m \u001b[0mself\u001b[0m\u001b[0;34m.\u001b[0m\u001b[0m_samples\u001b[0m\u001b[0;34m[\u001b[0m\u001b[0midxs\u001b[0m\u001b[0;34m]\u001b[0m\u001b[0;34m\u001b[0m\u001b[0m\n",
      "\u001b[0;32m~/anaconda3/lib/python3.6/site-packages/pyro/distributions/empirical.py\u001b[0m in \u001b[0;36m_finalize\u001b[0;34m(self)\u001b[0m\n\u001b[1;32m     50\u001b[0m         \u001b[0;32mif\u001b[0m \u001b[0;32mnot\u001b[0m \u001b[0mself\u001b[0m\u001b[0;34m.\u001b[0m\u001b[0m_samples_buffer\u001b[0m\u001b[0;34m:\u001b[0m\u001b[0;34m\u001b[0m\u001b[0m\n\u001b[1;32m     51\u001b[0m             \u001b[0;32mreturn\u001b[0m\u001b[0;34m\u001b[0m\u001b[0m\n\u001b[0;32m---> 52\u001b[0;31m         \u001b[0mself\u001b[0m\u001b[0;34m.\u001b[0m\u001b[0m_samples\u001b[0m \u001b[0;34m=\u001b[0m \u001b[0mself\u001b[0m\u001b[0;34m.\u001b[0m\u001b[0m_append_from_buffer\u001b[0m\u001b[0;34m(\u001b[0m\u001b[0mself\u001b[0m\u001b[0;34m.\u001b[0m\u001b[0m_samples\u001b[0m\u001b[0;34m,\u001b[0m \u001b[0mself\u001b[0m\u001b[0;34m.\u001b[0m\u001b[0m_samples_buffer\u001b[0m\u001b[0;34m)\u001b[0m\u001b[0;34m\u001b[0m\u001b[0m\n\u001b[0m\u001b[1;32m     53\u001b[0m         \u001b[0mself\u001b[0m\u001b[0;34m.\u001b[0m\u001b[0m_log_weights\u001b[0m \u001b[0;34m=\u001b[0m \u001b[0mself\u001b[0m\u001b[0;34m.\u001b[0m\u001b[0m_append_from_buffer\u001b[0m\u001b[0;34m(\u001b[0m\u001b[0mself\u001b[0m\u001b[0;34m.\u001b[0m\u001b[0m_log_weights\u001b[0m\u001b[0;34m,\u001b[0m \u001b[0mself\u001b[0m\u001b[0;34m.\u001b[0m\u001b[0m_weights_buffer\u001b[0m\u001b[0;34m)\u001b[0m\u001b[0;34m\u001b[0m\u001b[0m\n\u001b[1;32m     54\u001b[0m         \u001b[0mself\u001b[0m\u001b[0;34m.\u001b[0m\u001b[0m_categorical\u001b[0m \u001b[0;34m=\u001b[0m \u001b[0mCategorical\u001b[0m\u001b[0;34m(\u001b[0m\u001b[0mlogits\u001b[0m\u001b[0;34m=\u001b[0m\u001b[0mself\u001b[0m\u001b[0;34m.\u001b[0m\u001b[0m_log_weights\u001b[0m\u001b[0;34m)\u001b[0m\u001b[0;34m\u001b[0m\u001b[0m\n",
      "\u001b[0;32m~/anaconda3/lib/python3.6/site-packages/pyro/distributions/empirical.py\u001b[0m in \u001b[0;36m_append_from_buffer\u001b[0;34m(tensor, buffer)\u001b[0m\n\u001b[1;32m     40\u001b[0m         \u001b[0;34m:\u001b[0m\u001b[0;32mreturn\u001b[0m\u001b[0;34m:\u001b[0m \u001b[0mtensor\u001b[0m \u001b[0;32mwith\u001b[0m \u001b[0mnew\u001b[0m \u001b[0mvalues\u001b[0m \u001b[0mappended\u001b[0m \u001b[0mat\u001b[0m \u001b[0mthe\u001b[0m \u001b[0mbottom\u001b[0m\u001b[0;34m.\u001b[0m\u001b[0;34m\u001b[0m\u001b[0m\n\u001b[1;32m     41\u001b[0m         \"\"\"\n\u001b[0;32m---> 42\u001b[0;31m         \u001b[0mbuffer_tensor\u001b[0m \u001b[0;34m=\u001b[0m \u001b[0mtorch\u001b[0m\u001b[0;34m.\u001b[0m\u001b[0mstack\u001b[0m\u001b[0;34m(\u001b[0m\u001b[0mbuffer\u001b[0m\u001b[0;34m,\u001b[0m \u001b[0mdim\u001b[0m\u001b[0;34m=\u001b[0m\u001b[0;36m0\u001b[0m\u001b[0;34m)\u001b[0m\u001b[0;34m\u001b[0m\u001b[0m\n\u001b[0m\u001b[1;32m     43\u001b[0m         \u001b[0;32mreturn\u001b[0m \u001b[0mtorch\u001b[0m\u001b[0;34m.\u001b[0m\u001b[0mcat\u001b[0m\u001b[0;34m(\u001b[0m\u001b[0;34m[\u001b[0m\u001b[0mtensor\u001b[0m\u001b[0;34m,\u001b[0m \u001b[0mbuffer_tensor\u001b[0m\u001b[0;34m]\u001b[0m\u001b[0;34m,\u001b[0m \u001b[0mdim\u001b[0m\u001b[0;34m=\u001b[0m\u001b[0;36m0\u001b[0m\u001b[0;34m)\u001b[0m\u001b[0;34m\u001b[0m\u001b[0m\n\u001b[1;32m     44\u001b[0m \u001b[0;34m\u001b[0m\u001b[0m\n",
      "\u001b[0;31mRuntimeError\u001b[0m: invalid argument 0: Sizes of tensors must match except in dimension 0. Got 594 and 600 in dimension 1 at /Users/soumith/minicondabuild3/conda-bld/pytorch_1524590658547/work/aten/src/TH/generic/THTensorMath.c:3586"
     ]
    }
   ],
   "source": [
    "marginal()"
   ]
  },
  {
   "cell_type": "code",
   "execution_count": null,
   "metadata": {},
   "outputs": [],
   "source": []
  }
 ],
 "metadata": {
  "kernelspec": {
   "display_name": "Python 3",
   "language": "python",
   "name": "python3"
  },
  "language_info": {
   "codemirror_mode": {
    "name": "ipython",
    "version": 3
   },
   "file_extension": ".py",
   "mimetype": "text/x-python",
   "name": "python",
   "nbconvert_exporter": "python",
   "pygments_lexer": "ipython3",
   "version": "3.6.3"
  }
 },
 "nbformat": 4,
 "nbformat_minor": 2
}
