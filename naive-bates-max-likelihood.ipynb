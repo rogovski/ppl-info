{
 "cells": [
  {
   "cell_type": "code",
   "execution_count": 1,
   "metadata": {
    "collapsed": true
   },
   "outputs": [],
   "source": [
    "%matplotlib inline\n",
    "import matplotlib.pyplot as plt\n",
    "import seaborn as sns;\n",
    "sns.set(style=\"ticks\", color_codes=True)\n",
    "\n",
    "from sklearn.datasets import fetch_20newsgroups\n",
    "from sklearn.feature_extraction.text import TfidfVectorizer, CountVectorizer\n",
    "import numpy as np"
   ]
  },
  {
   "cell_type": "markdown",
   "metadata": {},
   "source": [
    "# dataset\n",
    "\n",
    "we will use the 20 newsgroups dataset. example usage of this data can be found [here](http://scikit-learn.org/stable/datasets/index.html#the-20-newsgroups-text-dataset)."
   ]
  },
  {
   "cell_type": "code",
   "execution_count": 2,
   "metadata": {
    "collapsed": true
   },
   "outputs": [],
   "source": [
    "def get_vocab():\n",
    "    with open('./simple-vocab.txt')as f:\n",
    "        content = f.readlines()\n",
    "    content = [x.strip() for x in content]\n",
    "    return np.unique(content)\n",
    "vocab = get_vocab()\n",
    "num_features = len(vocab)\n",
    "categories = [\n",
    "    'rec.autos',\n",
    "    'rec.sport.baseball', \n",
    "    'rec.sport.hockey',\n",
    "    'sci.med', \n",
    "    'sci.space'\n",
    "]\n",
    "num_cats = len(categories)\n",
    "docs_train = fetch_20newsgroups(subset='train', categories=categories)\n",
    "docs_test = fetch_20newsgroups(subset='test', categories=categories)"
   ]
  },
  {
   "cell_type": "markdown",
   "metadata": {},
   "source": [
    "### feature extraction\n",
    "\n",
    "see wikipedia for an explaination of [tf-idf](https://en.wikipedia.org/wiki/Tf%E2%80%93idf)"
   ]
  },
  {
   "cell_type": "code",
   "execution_count": 3,
   "metadata": {},
   "outputs": [
    {
     "name": "stdout",
     "output_type": "stream",
     "text": [
      "train: (2978, 1027)\n",
      "test: (1982, 1027)\n"
     ]
    }
   ],
   "source": [
    "vectorizer = TfidfVectorizer(\n",
    "    stop_words='english', \n",
    "    vocabulary=vocab,\n",
    "    binary=True, \n",
    "    use_idf=False, \n",
    "    norm=None\n",
    ")\n",
    "vectors_train = vectorizer.fit_transform(docs_train.data).toarray()\n",
    "vectors_test = vectorizer.transform(docs_test.data).toarray()\n",
    "print('train: {}'.format(vectors_train.shape))\n",
    "print('test: {}'.format(vectors_test.shape))"
   ]
  },
  {
   "cell_type": "code",
   "execution_count": 5,
   "metadata": {},
   "outputs": [
    {
     "data": {
      "text/plain": [
       "array([[ 0.        ,  0.0016835 ,  0.00673401, ...,  0.        ,\n",
       "         0.        ,  0.        ],\n",
       "       [ 0.        ,  0.        ,  0.        , ...,  0.00167504,\n",
       "         0.        ,  0.        ],\n",
       "       [ 0.        ,  0.        ,  0.00333333, ...,  0.        ,\n",
       "         0.        ,  0.        ],\n",
       "       [ 0.0016835 ,  0.        ,  0.0016835 , ...,  0.        ,\n",
       "         0.        ,  0.        ],\n",
       "       [ 0.        ,  0.        ,  0.02529511, ...,  0.00168634,\n",
       "         0.        ,  0.06408094]])"
      ]
     },
     "execution_count": 5,
     "metadata": {},
     "output_type": "execute_result"
    }
   ],
   "source": [
    "# see https://youtu.be/oAihxFkRHu8?t=29m34s\n",
    "# for an explaination of N_c and N_c_j\n",
    "# \n",
    "def make_N_c():\n",
    "    N_c = []\n",
    "    for i in range(num_cats):\n",
    "        N_c.append(vectors_train[docs_train.target == i, :].shape[0])\n",
    "    return np.array(N_c)\n",
    "\n",
    "N_c = make_N_c()\n",
    "\n",
    "def pi_estimator():\n",
    "    \"\"\"\n",
    "    number of times a document occures in class divided by total\n",
    "    number of docs\n",
    "    nando calls it N_c\n",
    "    \"\"\"\n",
    "    return N_c / float(len(vectors_train))\n",
    "\n",
    "def theta_estimator():\n",
    "    \"\"\"\n",
    "    each class has 1000 estimated parameters\n",
    "    \"\"\"\n",
    "    acc = []\n",
    "    for class_lbl in range(num_cats):\n",
    "        feat_acc = []\n",
    "        for feat in range(num_features):\n",
    "            feat_acc.append(vectors_train[docs_train.target == class_lbl, feat].sum())\n",
    "        feat_acc = np.array(feat_acc) / float(N_c[class_lbl])\n",
    "        acc.append(feat_acc)\n",
    "    return np.array(acc)\n",
    "\n",
    "pi_hat = pi_estimator()\n",
    "theta_hat = theta_estimator()\n",
    "\n",
    "def prob_c_given(x_str):\n",
    "    \"\"\"\n",
    "    https://youtu.be/oAihxFkRHu8?t=29m44s\n",
    "    \"\"\"\n",
    "    def pmf_at_c(c):\n",
    "        x = vectorizer.transform([x_str]).toarray().tolist()[0]\n",
    "        acc_prod = 1\n",
    "        for j in range(num_features):\n",
    "            acc_prod *= theta_hat[c,j]**(x[j] == 1) * (1 - theta_hat[c,j])**(x[j] == 0)\n",
    "        return pi_hat[c] * acc_prod\n",
    "    \n",
    "    pmfs = []\n",
    "    for lbl in range(num_cats):\n",
    "        pmfs.append(pmf_at_c(lbl))\n",
    "    pmfs = np.array(pmfs)\n",
    "    pmfsum = pmfs.sum()\n",
    "    if pmfsum == 0:\n",
    "        guess = np.zeros((num_cats,))\n",
    "        guess[0] = 1\n",
    "        return guess\n",
    "    else:\n",
    "        return pmfs / pmfsum\n",
    "\n",
    "def show_test_idx(idx):\n",
    "    # docs_test.target_names\n",
    "    pred = np.argmax(prob_c_given(docs_test.data[idx]))\n",
    "    print('pred: {}'.format(docs_test.target_names[pred]))\n",
    "    print('target: {}'.format(docs_test.target_names[docs_test.target[idx]]))\n",
    "    print('\\n** doc **')\n",
    "    print(docs_test.data[idx])\n",
    "\n",
    "def test_accuracy():\n",
    "    testN = len(docs_test.target)\n",
    "    correct = 0\n",
    "    curr_cnt = 0\n",
    "    for i in range(testN):\n",
    "        pred = np.argmax(prob_c_given(docs_test.data[i]))\n",
    "        target = docs_test.target[i]\n",
    "        if pred == target:\n",
    "            correct += 1\n",
    "        curr_cnt += 1\n",
    "        if curr_cnt % 100 == 0:\n",
    "            print('Accuracy (0-1): {}'.format((correct / float(curr_cnt)) * 100))\n",
    "    print('Accuracy Final (0-1): {}'.format((correct / float(testN)) * 100))\n",
    "        \n",
    "def test_accuracy_random():\n",
    "    testN = len(docs_test.target)\n",
    "    correct = 0\n",
    "    curr_cnt = 0\n",
    "    for i in range(testN):\n",
    "        pred = np.argmax(np.random.multinomial(1, [1/float(num_cats)]*num_cats, size=1)[0])\n",
    "        target = docs_test.target[i]\n",
    "        if pred == target:\n",
    "            correct += 1\n",
    "        curr_cnt += 1\n",
    "        if curr_cnt % 100 == 0:\n",
    "            print('Accuracy (0-1): {}'.format((correct / float(curr_cnt)) * 100))\n",
    "    print('Accuracy Final (0-1): {}'.format((correct / float(testN)) * 100))\n",
    "\n",
    "# test_accuracy()\n",
    "theta_hat"
   ]
  },
  {
   "cell_type": "markdown",
   "metadata": {},
   "source": [
    "# model"
   ]
  }
 ],
 "metadata": {
  "kernelspec": {
   "display_name": "Python 3",
   "language": "python",
   "name": "python3"
  },
  "language_info": {
   "codemirror_mode": {
    "name": "ipython",
    "version": 3
   },
   "file_extension": ".py",
   "mimetype": "text/x-python",
   "name": "python",
   "nbconvert_exporter": "python",
   "pygments_lexer": "ipython3",
   "version": "3.6.3"
  }
 },
 "nbformat": 4,
 "nbformat_minor": 2
}
