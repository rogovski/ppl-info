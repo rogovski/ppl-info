{
 "cells": [
  {
   "cell_type": "code",
   "execution_count": 1,
   "metadata": {
    "collapsed": true
   },
   "outputs": [],
   "source": [
    "%matplotlib inline\n",
    "import matplotlib.pyplot as plt\n",
    "import seaborn as sns;\n",
    "sns.set(style=\"ticks\", color_codes=True)\n",
    "\n",
    "from sklearn.datasets import fetch_20newsgroups\n",
    "from sklearn.feature_extraction.text import TfidfVectorizer, CountVectorizer\n",
    "import numpy as np"
   ]
  },
  {
   "cell_type": "markdown",
   "metadata": {},
   "source": [
    "# dataset\n",
    "\n",
    "we will use the 20 newsgroups dataset. example usage of this data can be found [here](http://scikit-learn.org/stable/datasets/index.html#the-20-newsgroups-text-dataset)."
   ]
  },
  {
   "cell_type": "code",
   "execution_count": 2,
   "metadata": {},
   "outputs": [],
   "source": [
    "def get_vocab():\n",
    "    with open('./simple-vocab.txt')as f:\n",
    "        content = f.readlines()\n",
    "    content = [x.strip() for x in content]\n",
    "    return np.unique(content)\n",
    "vocab = get_vocab()\n",
    "num_features = len(vocab)\n",
    "categories = [\n",
    "    'rec.autos',\n",
    "    'rec.sport.baseball', \n",
    "    'rec.sport.hockey',\n",
    "    'sci.med', \n",
    "    'sci.space'\n",
    "]\n",
    "num_cats = len(categories)\n",
    "docs_train = fetch_20newsgroups(subset='train', categories=categories)\n",
    "docs_test = fetch_20newsgroups(subset='test', categories=categories)"
   ]
  },
  {
   "cell_type": "markdown",
   "metadata": {},
   "source": [
    "### feature extraction\n",
    "\n",
    "see wikipedia for an explaination of [tf-idf](https://en.wikipedia.org/wiki/Tf%E2%80%93idf)"
   ]
  },
  {
   "cell_type": "code",
   "execution_count": 3,
   "metadata": {},
   "outputs": [
    {
     "name": "stdout",
     "output_type": "stream",
     "text": [
      "train: (2978, 1027)\n",
      "test: (1982, 1027)\n"
     ]
    }
   ],
   "source": [
    "vectorizer = TfidfVectorizer(\n",
    "    stop_words='english', \n",
    "    vocabulary=vocab,\n",
    "    binary=True, \n",
    "    use_idf=False, \n",
    "    norm=None\n",
    ")\n",
    "vectors_train = vectorizer.fit_transform(docs_train.data).toarray()\n",
    "vectors_test = vectorizer.transform(docs_test.data).toarray()\n",
    "print('train: {}'.format(vectors_train.shape))\n",
    "print('test: {}'.format(vectors_test.shape))"
   ]
  },
  {
   "cell_type": "code",
   "execution_count": 4,
   "metadata": {},
   "outputs": [
    {
     "name": "stdout",
     "output_type": "stream",
     "text": [
      "Accuracy (0-1): 61.0\n",
      "Accuracy (0-1): 68.5\n",
      "Accuracy (0-1): 69.66666666666667\n",
      "Accuracy (0-1): 70.5\n",
      "Accuracy (0-1): 70.6\n",
      "Accuracy (0-1): 71.5\n",
      "Accuracy (0-1): 72.85714285714285\n",
      "Accuracy (0-1): 72.125\n",
      "Accuracy (0-1): 72.0\n",
      "Accuracy (0-1): 72.1\n",
      "Accuracy (0-1): 72.18181818181819\n",
      "Accuracy (0-1): 72.25\n",
      "Accuracy (0-1): 72.23076923076923\n",
      "Accuracy (0-1): 71.78571428571429\n",
      "Accuracy (0-1): 72.06666666666666\n",
      "Accuracy (0-1): 71.9375\n",
      "Accuracy (0-1): 71.6470588235294\n",
      "Accuracy (0-1): 71.05555555555556\n",
      "Accuracy (0-1): 71.0\n"
     ]
    },
    {
     "ename": "KeyboardInterrupt",
     "evalue": "",
     "output_type": "error",
     "traceback": [
      "\u001b[0;31m---------------------------------------------------------------------------\u001b[0m",
      "\u001b[0;31mKeyboardInterrupt\u001b[0m                         Traceback (most recent call last)",
      "\u001b[0;32m<ipython-input-4-6abf07a5d828>\u001b[0m in \u001b[0;36m<module>\u001b[0;34m()\u001b[0m\n\u001b[1;32m     93\u001b[0m     \u001b[0mprint\u001b[0m\u001b[0;34m(\u001b[0m\u001b[0;34m'Accuracy Final (0-1): {}'\u001b[0m\u001b[0;34m.\u001b[0m\u001b[0mformat\u001b[0m\u001b[0;34m(\u001b[0m\u001b[0;34m(\u001b[0m\u001b[0mcorrect\u001b[0m \u001b[0;34m/\u001b[0m \u001b[0mfloat\u001b[0m\u001b[0;34m(\u001b[0m\u001b[0mtestN\u001b[0m\u001b[0;34m)\u001b[0m\u001b[0;34m)\u001b[0m \u001b[0;34m*\u001b[0m \u001b[0;36m100\u001b[0m\u001b[0;34m)\u001b[0m\u001b[0;34m)\u001b[0m\u001b[0;34m\u001b[0m\u001b[0m\n\u001b[1;32m     94\u001b[0m \u001b[0;34m\u001b[0m\u001b[0m\n\u001b[0;32m---> 95\u001b[0;31m \u001b[0mtest_accuracy\u001b[0m\u001b[0;34m(\u001b[0m\u001b[0;34m)\u001b[0m\u001b[0;34m\u001b[0m\u001b[0m\n\u001b[0m",
      "\u001b[0;32m<ipython-input-4-6abf07a5d828>\u001b[0m in \u001b[0;36mtest_accuracy\u001b[0;34m()\u001b[0m\n\u001b[1;32m     70\u001b[0m     \u001b[0mcurr_cnt\u001b[0m \u001b[0;34m=\u001b[0m \u001b[0;36m0\u001b[0m\u001b[0;34m\u001b[0m\u001b[0m\n\u001b[1;32m     71\u001b[0m     \u001b[0;32mfor\u001b[0m \u001b[0mi\u001b[0m \u001b[0;32min\u001b[0m \u001b[0mrange\u001b[0m\u001b[0;34m(\u001b[0m\u001b[0mtestN\u001b[0m\u001b[0;34m)\u001b[0m\u001b[0;34m:\u001b[0m\u001b[0;34m\u001b[0m\u001b[0m\n\u001b[0;32m---> 72\u001b[0;31m         \u001b[0mpred\u001b[0m \u001b[0;34m=\u001b[0m \u001b[0mnp\u001b[0m\u001b[0;34m.\u001b[0m\u001b[0margmax\u001b[0m\u001b[0;34m(\u001b[0m\u001b[0mprob_c_given\u001b[0m\u001b[0;34m(\u001b[0m\u001b[0mdocs_test\u001b[0m\u001b[0;34m.\u001b[0m\u001b[0mdata\u001b[0m\u001b[0;34m[\u001b[0m\u001b[0mi\u001b[0m\u001b[0;34m]\u001b[0m\u001b[0;34m)\u001b[0m\u001b[0;34m)\u001b[0m\u001b[0;34m\u001b[0m\u001b[0m\n\u001b[0m\u001b[1;32m     73\u001b[0m         \u001b[0mtarget\u001b[0m \u001b[0;34m=\u001b[0m \u001b[0mdocs_test\u001b[0m\u001b[0;34m.\u001b[0m\u001b[0mtarget\u001b[0m\u001b[0;34m[\u001b[0m\u001b[0mi\u001b[0m\u001b[0;34m]\u001b[0m\u001b[0;34m\u001b[0m\u001b[0m\n\u001b[1;32m     74\u001b[0m         \u001b[0;32mif\u001b[0m \u001b[0mpred\u001b[0m \u001b[0;34m==\u001b[0m \u001b[0mtarget\u001b[0m\u001b[0;34m:\u001b[0m\u001b[0;34m\u001b[0m\u001b[0m\n",
      "\u001b[0;32m<ipython-input-4-6abf07a5d828>\u001b[0m in \u001b[0;36mprob_c_given\u001b[0;34m(x_str)\u001b[0m\n\u001b[1;32m     47\u001b[0m     \u001b[0mpmfs\u001b[0m \u001b[0;34m=\u001b[0m \u001b[0;34m[\u001b[0m\u001b[0;34m]\u001b[0m\u001b[0;34m\u001b[0m\u001b[0m\n\u001b[1;32m     48\u001b[0m     \u001b[0;32mfor\u001b[0m \u001b[0mlbl\u001b[0m \u001b[0;32min\u001b[0m \u001b[0mrange\u001b[0m\u001b[0;34m(\u001b[0m\u001b[0mnum_cats\u001b[0m\u001b[0;34m)\u001b[0m\u001b[0;34m:\u001b[0m\u001b[0;34m\u001b[0m\u001b[0m\n\u001b[0;32m---> 49\u001b[0;31m         \u001b[0mpmfs\u001b[0m\u001b[0;34m.\u001b[0m\u001b[0mappend\u001b[0m\u001b[0;34m(\u001b[0m\u001b[0mpmf_at_c\u001b[0m\u001b[0;34m(\u001b[0m\u001b[0mlbl\u001b[0m\u001b[0;34m)\u001b[0m\u001b[0;34m)\u001b[0m\u001b[0;34m\u001b[0m\u001b[0m\n\u001b[0m\u001b[1;32m     50\u001b[0m     \u001b[0mpmfs\u001b[0m \u001b[0;34m=\u001b[0m \u001b[0mnp\u001b[0m\u001b[0;34m.\u001b[0m\u001b[0marray\u001b[0m\u001b[0;34m(\u001b[0m\u001b[0mpmfs\u001b[0m\u001b[0;34m)\u001b[0m\u001b[0;34m\u001b[0m\u001b[0m\n\u001b[1;32m     51\u001b[0m     \u001b[0mpmfsum\u001b[0m \u001b[0;34m=\u001b[0m \u001b[0mpmfs\u001b[0m\u001b[0;34m.\u001b[0m\u001b[0msum\u001b[0m\u001b[0;34m(\u001b[0m\u001b[0;34m)\u001b[0m\u001b[0;34m\u001b[0m\u001b[0m\n",
      "\u001b[0;32m<ipython-input-4-6abf07a5d828>\u001b[0m in \u001b[0;36mpmf_at_c\u001b[0;34m(c)\u001b[0m\n\u001b[1;32m     42\u001b[0m         \u001b[0macc_prod\u001b[0m \u001b[0;34m=\u001b[0m \u001b[0;36m1\u001b[0m\u001b[0;34m\u001b[0m\u001b[0m\n\u001b[1;32m     43\u001b[0m         \u001b[0;32mfor\u001b[0m \u001b[0mj\u001b[0m \u001b[0;32min\u001b[0m \u001b[0mrange\u001b[0m\u001b[0;34m(\u001b[0m\u001b[0mnum_features\u001b[0m\u001b[0;34m)\u001b[0m\u001b[0;34m:\u001b[0m\u001b[0;34m\u001b[0m\u001b[0m\n\u001b[0;32m---> 44\u001b[0;31m             \u001b[0macc_prod\u001b[0m \u001b[0;34m*=\u001b[0m \u001b[0mtheta_hat\u001b[0m\u001b[0;34m[\u001b[0m\u001b[0mc\u001b[0m\u001b[0;34m,\u001b[0m\u001b[0mj\u001b[0m\u001b[0;34m]\u001b[0m\u001b[0;34m**\u001b[0m\u001b[0;34m(\u001b[0m\u001b[0mx\u001b[0m\u001b[0;34m[\u001b[0m\u001b[0mj\u001b[0m\u001b[0;34m]\u001b[0m \u001b[0;34m==\u001b[0m \u001b[0;36m1\u001b[0m\u001b[0;34m)\u001b[0m \u001b[0;34m*\u001b[0m \u001b[0;34m(\u001b[0m\u001b[0;36m1\u001b[0m \u001b[0;34m-\u001b[0m \u001b[0mtheta_hat\u001b[0m\u001b[0;34m[\u001b[0m\u001b[0mc\u001b[0m\u001b[0;34m,\u001b[0m\u001b[0mj\u001b[0m\u001b[0;34m]\u001b[0m\u001b[0;34m)\u001b[0m\u001b[0;34m**\u001b[0m\u001b[0;34m(\u001b[0m\u001b[0mx\u001b[0m\u001b[0;34m[\u001b[0m\u001b[0mj\u001b[0m\u001b[0;34m]\u001b[0m \u001b[0;34m==\u001b[0m \u001b[0;36m0\u001b[0m\u001b[0;34m)\u001b[0m\u001b[0;34m\u001b[0m\u001b[0m\n\u001b[0m\u001b[1;32m     45\u001b[0m         \u001b[0;32mreturn\u001b[0m \u001b[0mpi_hat\u001b[0m\u001b[0;34m[\u001b[0m\u001b[0mc\u001b[0m\u001b[0;34m]\u001b[0m \u001b[0;34m*\u001b[0m \u001b[0macc_prod\u001b[0m\u001b[0;34m\u001b[0m\u001b[0m\n\u001b[1;32m     46\u001b[0m \u001b[0;34m\u001b[0m\u001b[0m\n",
      "\u001b[0;31mKeyboardInterrupt\u001b[0m: "
     ]
    }
   ],
   "source": [
    "# see https://youtu.be/oAihxFkRHu8?t=29m34s\n",
    "# for an explaination of N_c and N_c_j\n",
    "# \n",
    "def make_N_c():\n",
    "    N_c = []\n",
    "    for i in range(num_cats):\n",
    "        N_c.append(vectors_train[docs_train.target == i, :].shape[0])\n",
    "    return np.array(N_c)\n",
    "\n",
    "N_c = make_N_c()\n",
    "\n",
    "def pi_estimator():\n",
    "    \"\"\"\n",
    "    number of times a document occures in class divided by total\n",
    "    number of docs\n",
    "    nando calls it N_c\n",
    "    \"\"\"\n",
    "    return N_c / float(len(vectors_train))\n",
    "\n",
    "def theta_estimator():\n",
    "    \"\"\"\n",
    "    each class has 1000 estimated parameters\n",
    "    \"\"\"\n",
    "    acc = []\n",
    "    for class_lbl in range(num_cats):\n",
    "        feat_acc = []\n",
    "        for feat in range(num_features):\n",
    "            feat_acc.append(vectors_train[docs_train.target == class_lbl, feat].sum())\n",
    "        feat_acc = np.array(feat_acc) / float(N_c[class_lbl])\n",
    "        acc.append(feat_acc)\n",
    "    return np.array(acc)\n",
    "\n",
    "pi_hat = pi_estimator()\n",
    "theta_hat = theta_estimator()\n",
    "\n",
    "def prob_c_given(x_str):\n",
    "    \"\"\"\n",
    "    https://youtu.be/oAihxFkRHu8?t=29m44s\n",
    "    \"\"\"\n",
    "    def pmf_at_c(c):\n",
    "        x = vectorizer.transform([x_str]).toarray().tolist()[0]\n",
    "        acc_prod = 1\n",
    "        for j in range(num_features):\n",
    "            acc_prod *= theta_hat[c,j]**(x[j] == 1) * (1 - theta_hat[c,j])**(x[j] == 0)\n",
    "        return pi_hat[c] * acc_prod\n",
    "    \n",
    "    pmfs = []\n",
    "    for lbl in range(num_cats):\n",
    "        pmfs.append(pmf_at_c(lbl))\n",
    "    pmfs = np.array(pmfs)\n",
    "    pmfsum = pmfs.sum()\n",
    "    if pmfsum == 0:\n",
    "        guess = np.zeros((num_cats,))\n",
    "        guess[0] = 1\n",
    "        return guess\n",
    "    else:\n",
    "        return pmfs / pmfsum\n",
    "\n",
    "def show_test_idx(idx):\n",
    "    # docs_test.target_names\n",
    "    pred = np.argmax(prob_c_given(docs_test.data[idx]))\n",
    "    print('pred: {}'.format(docs_test.target_names[pred]))\n",
    "    print('target: {}'.format(docs_test.target_names[docs_test.target[idx]]))\n",
    "    print('\\n** doc **')\n",
    "    print(docs_test.data[idx])\n",
    "\n",
    "def test_accuracy():\n",
    "    testN = len(docs_test.target)\n",
    "    correct = 0\n",
    "    curr_cnt = 0\n",
    "    for i in range(testN):\n",
    "        pred = np.argmax(prob_c_given(docs_test.data[i]))\n",
    "        target = docs_test.target[i]\n",
    "        if pred == target:\n",
    "            correct += 1\n",
    "        curr_cnt += 1\n",
    "        if curr_cnt % 100 == 0:\n",
    "            print('Accuracy (0-1): {}'.format((correct / float(curr_cnt)) * 100))\n",
    "    print('Accuracy Final (0-1): {}'.format((correct / float(testN)) * 100))\n",
    "        \n",
    "def test_accuracy_random():\n",
    "    testN = len(docs_test.target)\n",
    "    correct = 0\n",
    "    curr_cnt = 0\n",
    "    for i in range(testN):\n",
    "        pred = np.argmax(np.random.multinomial(1, [1/float(num_cats)]*num_cats, size=1)[0])\n",
    "        target = docs_test.target[i]\n",
    "        if pred == target:\n",
    "            correct += 1\n",
    "        curr_cnt += 1\n",
    "        if curr_cnt % 100 == 0:\n",
    "            print('Accuracy (0-1): {}'.format((correct / float(curr_cnt)) * 100))\n",
    "    print('Accuracy Final (0-1): {}'.format((correct / float(testN)) * 100))\n",
    "\n",
    "test_accuracy()"
   ]
  },
  {
   "cell_type": "markdown",
   "metadata": {},
   "source": [
    "# model"
   ]
  }
 ],
 "metadata": {
  "kernelspec": {
   "display_name": "Python 3",
   "language": "python",
   "name": "python3"
  },
  "language_info": {
   "codemirror_mode": {
    "name": "ipython",
    "version": 3
   },
   "file_extension": ".py",
   "mimetype": "text/x-python",
   "name": "python",
   "nbconvert_exporter": "python",
   "pygments_lexer": "ipython3",
   "version": "3.6.3"
  }
 },
 "nbformat": 4,
 "nbformat_minor": 2
}
