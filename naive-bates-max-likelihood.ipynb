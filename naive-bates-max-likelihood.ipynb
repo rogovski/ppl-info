{
 "cells": [
  {
   "cell_type": "code",
   "execution_count": 1,
   "metadata": {
    "collapsed": true
   },
   "outputs": [],
   "source": [
    "%matplotlib inline\n",
    "import matplotlib.pyplot as plt\n",
    "import seaborn as sns;\n",
    "sns.set(style=\"ticks\", color_codes=True)\n",
    "\n",
    "from sklearn.datasets import fetch_20newsgroups\n",
    "from sklearn.feature_extraction.text import TfidfVectorizer\n",
    "\n",
    "import numpy as np\n",
    "import torch\n",
    "import pyro\n",
    "import pyro.distributions as dist\n",
    "from torch.nn.functional import softplus"
   ]
  },
  {
   "cell_type": "markdown",
   "metadata": {},
   "source": [
    "# dataset\n",
    "\n",
    "we will use the 20 newsgroups dataset. example usage of this data can be found [here](http://scikit-learn.org/stable/datasets/index.html#the-20-newsgroups-text-dataset)."
   ]
  },
  {
   "cell_type": "code",
   "execution_count": 2,
   "metadata": {},
   "outputs": [],
   "source": [
    "categories = [\n",
    "    'alt.atheism', 'talk.religion.misc', \n",
    "    'comp.graphics', 'sci.space',  \n",
    "    'rec.sport.baseball', 'rec.sport.hockey'\n",
    "]\n",
    "docs_train = fetch_20newsgroups(subset='train', categories=categories)\n",
    "docs_test = fetch_20newsgroups(subset='test', categories=categories)\n",
    "num_features = 5000"
   ]
  },
  {
   "cell_type": "markdown",
   "metadata": {},
   "source": [
    "### feature extraction\n",
    "\n",
    "see wikipedia for an explaination of [tf-idf](https://en.wikipedia.org/wiki/Tf%E2%80%93idf)"
   ]
  },
  {
   "cell_type": "code",
   "execution_count": 3,
   "metadata": {},
   "outputs": [
    {
     "name": "stdout",
     "output_type": "stream",
     "text": [
      "train: (3231, 5000)\n",
      "test: (2149, 5000)\n"
     ]
    }
   ],
   "source": [
    "vectorizer = TfidfVectorizer(stop_words='english', max_features=num_features, binary=True, use_idf=False, norm=None)\n",
    "vectors_train = vectorizer.fit_transform(docs_train.data).todense()\n",
    "vectors_test = vectorizer.transform(docs_test.data).todense()\n",
    "print('train: {}'.format(vectors_train.shape))\n",
    "print('test: {}'.format(vectors_test.shape))"
   ]
  },
  {
   "cell_type": "code",
   "execution_count": 29,
   "metadata": {},
   "outputs": [
    {
     "name": "stdout",
     "output_type": "stream",
     "text": [
      "Accuracy (0-1): 14.000000000000002\n",
      "Accuracy (0-1): 17.0\n",
      "Accuracy (0-1): 16.666666666666664\n",
      "Accuracy (0-1): 15.5\n",
      "Accuracy (0-1): 16.6\n",
      "Accuracy (0-1): 15.833333333333332\n",
      "Accuracy (0-1): 16.857142857142858\n",
      "Accuracy (0-1): 16.75\n",
      "Accuracy (0-1): 16.555555555555557\n",
      "Accuracy (0-1): 16.400000000000002\n",
      "Accuracy (0-1): 16.363636363636363\n",
      "Accuracy (0-1): 16.166666666666664\n",
      "Accuracy (0-1): 16.307692307692307\n",
      "Accuracy (0-1): 16.785714285714285\n",
      "Accuracy (0-1): 16.53333333333333\n",
      "Accuracy (0-1): 16.5\n",
      "Accuracy (0-1): 16.58823529411765\n",
      "Accuracy (0-1): 16.38888888888889\n",
      "Accuracy (0-1): 16.0\n",
      "Accuracy (0-1): 15.7\n",
      "Accuracy (0-1): 16.095238095238095\n",
      "Accuracy Final (0-1): 15.960912052117262\n"
     ]
    }
   ],
   "source": [
    "# see https://youtu.be/oAihxFkRHu8?t=29m34s\n",
    "# for an explaination of N_c and N_c_j\n",
    "# \n",
    "N_c = np.array([\n",
    "    vectors_train[docs_train.target == 0, :].shape[0],\n",
    "    vectors_train[docs_train.target == 1, :].shape[0],\n",
    "    vectors_train[docs_train.target == 2, :].shape[0],\n",
    "    vectors_train[docs_train.target == 3, :].shape[0],\n",
    "    vectors_train[docs_train.target == 4, :].shape[0],\n",
    "    vectors_train[docs_train.target == 5, :].shape[0]\n",
    "])\n",
    "\n",
    "def pi_estimator():\n",
    "    \"\"\"\n",
    "    number of times a document occures in class divided by total\n",
    "    number of docs\n",
    "    nando calls it N_c\n",
    "    \"\"\"\n",
    "    return N_c / float(len(vectors_train))\n",
    "\n",
    "def theta_estimator():\n",
    "    \"\"\"\n",
    "    each class has 1000 estimated parameters\n",
    "    \"\"\"\n",
    "    acc = []\n",
    "    for class_lbl in range(6):\n",
    "        feat_acc = []\n",
    "        for feat in range(num_features):\n",
    "            feat_acc.append(vectors_train[docs_train.target == class_lbl, feat].sum())\n",
    "        feat_acc = np.array(feat_acc) / float(N_c[class_lbl])\n",
    "        acc.append(feat_acc)\n",
    "    return np.array(acc)\n",
    "\n",
    "pi_hat = pi_estimator()\n",
    "theta_hat = theta_estimator()\n",
    "\n",
    "def prob_c_given(x_str):\n",
    "    \"\"\"\n",
    "    https://youtu.be/oAihxFkRHu8?t=29m44s\n",
    "    \"\"\"\n",
    "    def pmf_at_c(c):\n",
    "        x = vectorizer.transform([x_str]).todense().tolist()[0]\n",
    "        acc_prod = 1\n",
    "        for j in range(num_features):\n",
    "            acc_prod *= theta_hat[c,j]**(x[j] == 1) * (1 - theta_hat[c,j])**(x[j] == 0)\n",
    "        return pi_hat[c] * acc_prod\n",
    "    \n",
    "    pmfs = []\n",
    "    for lbl in [0,1,2,3,4,5]:\n",
    "        pmfs.append(pmf_at_c(lbl))\n",
    "    pmfs = np.array(pmfs)\n",
    "    pmfsum = pmfs.sum()\n",
    "    if pmfsum == 0:\n",
    "        return np.array([1.,0.,0.,0.,0.,0.])\n",
    "    else:\n",
    "        return pmfs / pmfsum\n",
    "\n",
    "def show_test_idx(idx):\n",
    "    # docs_test.target_names\n",
    "    pred = np.argmax(prob_c_given(docs_test.data[idx]))\n",
    "    print('pred: {}'.format(docs_test.target_names[pred]))\n",
    "    print('target: {}'.format(docs_test.target_names[docs_test.target[idx]]))\n",
    "    print('\\n** doc **')\n",
    "    print(docs_test.data[idx])\n",
    "\n",
    "def test_accuracy():\n",
    "    testN = len(docs_test.target)\n",
    "    correct = 0\n",
    "    curr_cnt = 0\n",
    "    for i in range(testN):\n",
    "        pred = np.argmax(prob_c_given(docs_test.data[i]))\n",
    "        target = docs_test.target[i]\n",
    "        if pred == target:\n",
    "            correct += 1\n",
    "        curr_cnt += 1\n",
    "        if curr_cnt % 100 == 0:\n",
    "            print('Accuracy (0-1): {}'.format((correct / float(curr_cnt)) * 100))\n",
    "    print('Accuracy Final (0-1): {}'.format((correct / float(testN)) * 100))\n",
    "        \n",
    "def test_accuracy_random():\n",
    "    testN = len(docs_test.target)\n",
    "    correct = 0\n",
    "    curr_cnt = 0\n",
    "    for i in range(testN):\n",
    "        pred = np.argmax(np.random.multinomial(1, [1/6.]*6, size=1)[0])\n",
    "        target = docs_test.target[i]\n",
    "        if pred == target:\n",
    "            correct += 1\n",
    "        curr_cnt += 1\n",
    "        if curr_cnt % 100 == 0:\n",
    "            print('Accuracy (0-1): {}'.format((correct / float(curr_cnt)) * 100))\n",
    "    print('Accuracy Final (0-1): {}'.format((correct / float(testN)) * 100))\n",
    "test_accuracy_random()"
   ]
  },
  {
   "cell_type": "markdown",
   "metadata": {},
   "source": [
    "# model"
   ]
  },
  {
   "cell_type": "code",
   "execution_count": 24,
   "metadata": {},
   "outputs": [
    {
     "data": {
      "text/plain": [
       "1"
      ]
     },
     "execution_count": 24,
     "metadata": {},
     "output_type": "execute_result"
    }
   ],
   "source": [
    "np.argmax(np.random.multinomial(1, [1/6.]*6, size=1)[0])"
   ]
  }
 ],
 "metadata": {
  "kernelspec": {
   "display_name": "Python 3",
   "language": "python",
   "name": "python3"
  },
  "language_info": {
   "codemirror_mode": {
    "name": "ipython",
    "version": 3
   },
   "file_extension": ".py",
   "mimetype": "text/x-python",
   "name": "python",
   "nbconvert_exporter": "python",
   "pygments_lexer": "ipython3",
   "version": "3.6.3"
  }
 },
 "nbformat": 4,
 "nbformat_minor": 2
}
